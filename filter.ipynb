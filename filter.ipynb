{
  "nbformat": 4,
  "nbformat_minor": 0,
  "metadata": {
    "colab": {
      "provenance": []
    },
    "kernelspec": {
      "name": "python3",
      "display_name": "Python 3"
    },
    "language_info": {
      "name": "python"
    }
  },
  "cells": [
    {
      "cell_type": "code",
      "execution_count": 4,
      "metadata": {
        "colab": {
          "base_uri": "https://localhost:8080/"
        },
        "id": "93KYrgbpg1yV",
        "outputId": "58a46e3b-4241-4065-eaea-fddca0995b1f"
      },
      "outputs": [
        {
          "output_type": "stream",
          "name": "stdout",
          "text": [
            "Enter the number of users: 2\n",
            "Enter the number of items: 2\n",
            "Enter rating for user 1 and item 1: 3\n",
            "Enter rating for user 1 and item 2: 2\n",
            "Enter rating for user 2 and item 1: 4\n",
            "Enter rating for user 2 and item 2: 2\n",
            "Completed user-item matrix:\n",
            "[[3. 2.]\n",
            " [4. 2.]]\n"
          ]
        }
      ],
      "source": [
        "import numpy as np\n",
        "\n",
        "def collaborative_filtering(user_item_matrix):\n",
        "\n",
        "    num_users, num_items = user_item_matrix.shape\n",
        "\n",
        "    # Calculate user similarities (cosine similarity)\n",
        "    user_similarities = np.zeros((num_users, num_users))\n",
        "    for i in range(num_users):\n",
        "        for j in range(num_users):\n",
        "            if i != j:\n",
        "                user_similarities[i, j] = np.dot(user_item_matrix[i], user_item_matrix[j]) / (\n",
        "                    np.linalg.norm(user_item_matrix[i]) * np.linalg.norm(user_item_matrix[j])\n",
        "                )\n",
        "\n",
        "    # Predict missing ratings\n",
        "    predicted_ratings = np.zeros_like(user_item_matrix)\n",
        "    for i in range(num_users):\n",
        "        for j in range(num_items):\n",
        "            if user_item_matrix[i, j] == 0:\n",
        "                # Calculate weighted average of similar users' ratings\n",
        "                numerator = np.sum(user_similarities[i] * user_item_matrix[:, j])\n",
        "                denominator = np.sum(np.abs(user_similarities[i]))\n",
        "                predicted_ratings[i, j] = numerator / (denominator + 1e-6)\n",
        "            else:\n",
        "                predicted_ratings[i, j] = user_item_matrix[i, j]\n",
        "\n",
        "    return predicted_ratings\n",
        "\n",
        "# Example: Read user-item matrix from user input (replace with your actual data loading logic)\n",
        "num_users = int(input(\"Enter the number of users: \"))\n",
        "num_items = int(input(\"Enter the number of items: \"))\n",
        "user_item_matrix = np.zeros((num_users, num_items))\n",
        "for i in range(num_users):\n",
        "    for j in range(num_items):\n",
        "        user_item_matrix[i, j] = float(input(f\"Enter rating for user {i+1} and item {j+1}: \"))\n",
        "\n",
        "# Perform collaborative filtering\n",
        "completed_matrix = collaborative_filtering(user_item_matrix)\n",
        "\n",
        "print(\"Completed user-item matrix:\")\n",
        "print(completed_matrix)"
      ]
    }
  ]
}